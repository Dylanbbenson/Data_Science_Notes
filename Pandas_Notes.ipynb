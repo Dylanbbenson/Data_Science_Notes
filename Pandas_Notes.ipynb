{
 "cells": [
  {
   "cell_type": "code",
   "execution_count": null,
   "id": "d69e2f12-7c96-4ed0-b8a3-a728d750ccdb",
   "metadata": {
    "tags": []
   },
   "outputs": [],
   "source": [
    "import pandas as pd"
   ]
  },
  {
   "cell_type": "code",
   "execution_count": 61,
   "id": "054ea6d6-e698-4ea5-8c31-1308a765f45a",
   "metadata": {
    "tags": []
   },
   "outputs": [
    {
     "data": {
      "text/html": [
       "<div>\n",
       "<style scoped>\n",
       "    .dataframe tbody tr th:only-of-type {\n",
       "        vertical-align: middle;\n",
       "    }\n",
       "\n",
       "    .dataframe tbody tr th {\n",
       "        vertical-align: top;\n",
       "    }\n",
       "\n",
       "    .dataframe thead th {\n",
       "        text-align: right;\n",
       "    }\n",
       "</style>\n",
       "<table border=\"1\" class=\"dataframe\">\n",
       "  <thead>\n",
       "    <tr style=\"text-align: right;\">\n",
       "      <th></th>\n",
       "      <th>Medals</th>\n",
       "      <th>Place</th>\n",
       "    </tr>\n",
       "  </thead>\n",
       "  <tbody>\n",
       "    <tr>\n",
       "      <th>0</th>\n",
       "      <td>Gold</td>\n",
       "      <td>1</td>\n",
       "    </tr>\n",
       "    <tr>\n",
       "      <th>1</th>\n",
       "      <td>Silver</td>\n",
       "      <td>2</td>\n",
       "    </tr>\n",
       "    <tr>\n",
       "      <th>2</th>\n",
       "      <td>Bronze</td>\n",
       "      <td>3</td>\n",
       "    </tr>\n",
       "    <tr>\n",
       "      <th>3</th>\n",
       "      <td>Copper</td>\n",
       "      <td>4</td>\n",
       "    </tr>\n",
       "  </tbody>\n",
       "</table>\n",
       "</div>"
      ],
      "text/plain": [
       "   Medals  Place\n",
       "0    Gold      1\n",
       "1  Silver      2\n",
       "2  Bronze      3\n",
       "3  Copper      4"
      ]
     },
     "execution_count": 61,
     "metadata": {},
     "output_type": "execute_result"
    }
   ],
   "source": [
    "#Create data frame\n",
    "mydataset = {\n",
    "  'Medals': [\"Gold\", \"Silver\", \"Bronze\", \"Copper\"],\n",
    "  'Place': [1, 2, 3, 4]\n",
    "}\n",
    "\n",
    "mydataframe = pd.DataFrame(mydataset)\n",
    "mydataframe"
   ]
  },
  {
   "cell_type": "code",
   "execution_count": 65,
   "id": "43102d52-9711-4de3-b90f-75c27cbc3b57",
   "metadata": {
    "tags": []
   },
   "outputs": [
    {
     "data": {
      "text/plain": [
       "1"
      ]
     },
     "execution_count": 65,
     "metadata": {},
     "output_type": "execute_result"
    }
   ],
   "source": [
    "#Series: a one-dimensional array in a table\n",
    "a = [1, 6, 26, 53, 284]\n",
    "a"
   ]
  },
  {
   "cell_type": "code",
   "execution_count": 67,
   "id": "91ef25ce-f3e5-441d-a98b-a11f494a302e",
   "metadata": {
    "tags": []
   },
   "outputs": [
    {
     "data": {
      "text/plain": [
       "53"
      ]
     },
     "execution_count": 67,
     "metadata": {},
     "output_type": "execute_result"
    }
   ],
   "source": [
    "#print specific values in the series\n",
    "a[0]\n",
    "a[3]"
   ]
  },
  {
   "cell_type": "code",
   "execution_count": 69,
   "id": "c98968ea-52d4-4021-ad8a-b119eafc092e",
   "metadata": {
    "tags": []
   },
   "outputs": [
    {
     "data": {
      "text/plain": [
       "v      1\n",
       "w      6\n",
       "x     26\n",
       "y     53\n",
       "z    284\n",
       "dtype: int64"
      ]
     },
     "execution_count": 69,
     "metadata": {},
     "output_type": "execute_result"
    }
   ],
   "source": [
    "#Create labels\n",
    "myvar = pd.Series(a, index = [\"v\", \"w\", \"x\", \"y\", \"z\"])\n",
    "myvar"
   ]
  },
  {
   "cell_type": "code",
   "execution_count": 70,
   "id": "bd913e85-3f83-42ca-9fc1-17472cdfac71",
   "metadata": {
    "tags": []
   },
   "outputs": [
    {
     "data": {
      "text/plain": [
       "53"
      ]
     },
     "execution_count": 70,
     "metadata": {},
     "output_type": "execute_result"
    }
   ],
   "source": [
    "#Access specific value based on indices\n",
    "myvar[\"y\"]"
   ]
  },
  {
   "cell_type": "code",
   "execution_count": 72,
   "id": "4b06b204-9e5c-42da-96ab-bd01c5cbdf99",
   "metadata": {
    "tags": []
   },
   "outputs": [
    {
     "data": {
      "text/plain": [
       "day1    420\n",
       "day2    380\n",
       "day3    390\n",
       "dtype: int64"
      ]
     },
     "execution_count": 72,
     "metadata": {},
     "output_type": "execute_result"
    }
   ],
   "source": [
    "calorie_intake = {\"day1\": 420, \"day2\": 380, \"day3\": 390}\n",
    "cals = pd.Series(calorie_intake)\n",
    "cals"
   ]
  },
  {
   "cell_type": "code",
   "execution_count": null,
   "id": "ac98bdbd-6ce8-46b4-ae7f-15658a2c9d44",
   "metadata": {
    "tags": []
   },
   "outputs": [],
   "source": [
    "df = pd.read_csv('imdb_top_1000.csv')"
   ]
  },
  {
   "cell_type": "code",
   "execution_count": null,
   "id": "62a75f2d-8e89-493d-8e64-b25899d01d37",
   "metadata": {
    "tags": []
   },
   "outputs": [],
   "source": [
    "#define first column\n",
    "first_column = df.columns[0]\n",
    "\n",
    "#drop first column or specific column\n",
    "#df = df.drop([first_column], axis=1) \n",
    "#df = df.drop(columns=['Series_Poster'])\n",
    "\n",
    "#recreate current csv\n",
    "df.to_csv('imdb_top_1000.csv', index=False)\n",
    "\n",
    "#create new csv\n",
    "df.to_csv('imdb_top_films')\n",
    "\n",
    "#convert to excel\n",
    "df.to_excel('imdb_top_films.xlsx')"
   ]
  },
  {
   "cell_type": "code",
   "execution_count": null,
   "id": "6a35b784-5094-4770-96d1-0c6350245c32",
   "metadata": {
    "tags": []
   },
   "outputs": [],
   "source": [
    "#top 3 rows\n",
    "print(df.head(3))\n",
    "\n",
    "#bottom 3 rows\n",
    "print(df.tail(3))"
   ]
  },
  {
   "cell_type": "code",
   "execution_count": null,
   "id": "3538945b-e4b8-481d-92d8-9fe1dc398393",
   "metadata": {
    "tags": []
   },
   "outputs": [],
   "source": [
    "#print a specific datum using row, column\n",
    "print(df.iloc[2,1]) #date of file 3\n",
    "print(df.iloc[233,4]) #Genre of film 234\n",
    "print(df.iloc[389,0]) #Title of filme 390"
   ]
  },
  {
   "cell_type": "code",
   "execution_count": null,
   "id": "af2c8e46-b979-4b17-ae81-d7a1c12775a0",
   "metadata": {
    "tags": []
   },
   "outputs": [],
   "source": [
    "#Read headers\n",
    "df.columns\n",
    "\n",
    "##Read each column individually or together\n",
    "df.Series_Title, df.Director"
   ]
  },
  {
   "cell_type": "code",
   "execution_count": null,
   "id": "db794e83-c7f6-452b-8f45-08d387ba1254",
   "metadata": {
    "tags": []
   },
   "outputs": [],
   "source": [
    "#Iterate through all rows\n",
    "for index, row in df.iterrows():\n",
    "    print(index, row['Series_Title'])"
   ]
  },
  {
   "cell_type": "code",
   "execution_count": null,
   "id": "52cd52e4-406d-4833-b8e6-4a1684157ef8",
   "metadata": {
    "tags": []
   },
   "outputs": [],
   "source": [
    "#Movies released in 2000s and later\n",
    "df.loc[df['Released_Year']  > '1999']"
   ]
  },
  {
   "cell_type": "code",
   "execution_count": null,
   "id": "f939f0a9-175e-44c2-b743-c3bca2b01608",
   "metadata": {
    "tags": []
   },
   "outputs": [],
   "source": [
    "#Statistics\n",
    "df.describe()"
   ]
  },
  {
   "cell_type": "code",
   "execution_count": null,
   "id": "53797f0d-4789-40ee-b5aa-b18cb3a8a210",
   "metadata": {
    "tags": []
   },
   "outputs": [],
   "source": [
    "#Sort data, ascending and descending\n",
    "df.sort_values('Released_Year')\n",
    "df.sort_values('Released_Year', ascending=False)\n",
    "df.sort_values(['Released_Year', 'Series_Title'])"
   ]
  },
  {
   "cell_type": "code",
   "execution_count": null,
   "id": "828756e9-5d2f-45c3-933c-7e572c6db66b",
   "metadata": {
    "tags": []
   },
   "outputs": [],
   "source": [
    "#New dataframe with filtered criteria\n",
    "new_df = df.loc[(df['Released_Year'] =='1990') & (df['Runtime'] >'120')]\n",
    "new_df"
   ]
  },
  {
   "cell_type": "code",
   "execution_count": null,
   "id": "c962b488-5ec3-49f7-918d-4e6922752d02",
   "metadata": {
    "tags": []
   },
   "outputs": [],
   "source": [
    "#Read all data with \"The\" in title\n",
    "df.loc[df['Series_Title'].str.contains('The')]\n",
    "\n",
    "#Use ~ to work as NOT\n",
    "df.loc[~df['Series_Title'].str.contains('The')]\n"
   ]
  },
  {
   "cell_type": "code",
   "execution_count": null,
   "id": "f0b6fead-3c49-4641-806d-7340d9251358",
   "metadata": {},
   "outputs": [],
   "source": [
    "#using regex to get only RomCom films\n",
    "import re\n",
    "df.loc[df['Genre'].str.contains('Comedy|Romance', regex=True)]\n",
    "\n",
    "#flags parameter will specify to ignore case\n",
    "df.loc[df['Genre'].str.contains('comedy|romance', flags=re.I, regex=True)]"
   ]
  },
  {
   "cell_type": "code",
   "execution_count": null,
   "id": "7d363fdb-7953-4cea-8670-a7bc3baf2835",
   "metadata": {
    "tags": []
   },
   "outputs": [],
   "source": [
    "#using regex to get only films that start with \"The\" \n",
    "df.loc[df['Series_Title'].str.contains('^The[a-z]*', flags=re.I, regex=True)]\n"
   ]
  },
  {
   "cell_type": "code",
   "execution_count": null,
   "id": "302839cf-1ebc-4bb1-931b-f2a108de6a45",
   "metadata": {
    "tags": []
   },
   "outputs": [],
   "source": [
    "#Group by functions\n",
    "#df.groupby(['Certificate']).mean().sort_values('IMDB_Rating', ascending=False)\n",
    "\n",
    "df.groupby(['Certificate']).count()\n",
    "df.groupby(['Released_Year']).count().sort_values('Released_Year', ascending=False)"
   ]
  },
  {
   "cell_type": "code",
   "execution_count": null,
   "id": "5866edbc-c2f4-4cc2-be05-0c42c5aa5b76",
   "metadata": {
    "tags": []
   },
   "outputs": [],
   "source": [
    "#Working with large data sets, compartment\n",
    "for df in pd.read_csv('imdb_top_1000.csv', chunksize=5):\n",
    "    print(\"Beginning of Chunk\")\n",
    "    print(df)\n",
    "    print(\"End of Chunk\\n\")"
   ]
  },
  {
   "cell_type": "code",
   "execution_count": null,
   "id": "6f1d2b83-4900-41f8-ae2c-6d07be033f24",
   "metadata": {},
   "outputs": [],
   "source": []
  }
 ],
 "metadata": {
  "kernelspec": {
   "display_name": "Python 3 (ipykernel)",
   "language": "python",
   "name": "python3"
  },
  "language_info": {
   "codemirror_mode": {
    "name": "ipython",
    "version": 3
   },
   "file_extension": ".py",
   "mimetype": "text/x-python",
   "name": "python",
   "nbconvert_exporter": "python",
   "pygments_lexer": "ipython3",
   "version": "3.10.6"
  }
 },
 "nbformat": 4,
 "nbformat_minor": 5
}
