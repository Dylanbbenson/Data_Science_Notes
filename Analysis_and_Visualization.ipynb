{
 "cells": [
  {
   "cell_type": "code",
   "execution_count": null,
   "id": "61cd0cc5-b382-49ae-a2a5-9c6a383c26f2",
   "metadata": {
    "tags": []
   },
   "outputs": [],
   "source": [
    "import pandas as pd\n",
    "import matplotlib.pyplot as plt\n",
    "import seaborn as sns"
   ]
  },
  {
   "cell_type": "code",
   "execution_count": null,
   "id": "83632665-0a02-40a4-989f-337cbff6c97f",
   "metadata": {
    "tags": []
   },
   "outputs": [],
   "source": [
    "#Take a peak at our csv\n",
    "!head health.csv"
   ]
  },
  {
   "cell_type": "code",
   "execution_count": null,
   "id": "68d9f0de-5ff1-440c-a9d4-23f882421be8",
   "metadata": {
    "tags": []
   },
   "outputs": [],
   "source": [
    "df = pd.read_csv('health.csv')"
   ]
  },
  {
   "cell_type": "code",
   "execution_count": null,
   "id": "3f830b24-8197-48a5-9fce-861bdcb76322",
   "metadata": {
    "tags": []
   },
   "outputs": [],
   "source": [
    "#Returns correlations between columns (-1 to 1)\n",
    "df.corr()"
   ]
  },
  {
   "cell_type": "code",
   "execution_count": null,
   "id": "215158b7-365e-4ae4-8fd0-90c675b8e7ec",
   "metadata": {
    "tags": []
   },
   "outputs": [],
   "source": [
    "#Visualize data\n",
    "df.plot()"
   ]
  },
  {
   "cell_type": "code",
   "execution_count": null,
   "id": "b11cf3cb-d32c-4346-bdad-76f1a5eace27",
   "metadata": {
    "tags": []
   },
   "outputs": [],
   "source": [
    "#Create scatter plot with a good relationship\n",
    "df.plot(kind = 'scatter', x = 'Duration', y = 'Calories')"
   ]
  },
  {
   "cell_type": "code",
   "execution_count": null,
   "id": "46bc98f0-62b2-48ff-9c39-fa1a11116d31",
   "metadata": {
    "tags": []
   },
   "outputs": [],
   "source": [
    "#Create scatter plot with bad relationship\n",
    "df.plot(kind = 'scatter', x = 'Duration', y = 'Maxpulse')"
   ]
  },
  {
   "cell_type": "code",
   "execution_count": null,
   "id": "8adbaeeb-e8e0-4196-b51d-15399e439f96",
   "metadata": {
    "tags": []
   },
   "outputs": [],
   "source": [
    "#Create a histogram\n",
    "df['Calories'].plot(kind = 'hist')"
   ]
  },
  {
   "cell_type": "code",
   "execution_count": null,
   "id": "b35596bb-ac6b-496a-b114-a1a8f764dc69",
   "metadata": {
    "tags": []
   },
   "outputs": [],
   "source": [
    "#rows, columns\n",
    "df.shape"
   ]
  },
  {
   "cell_type": "code",
   "execution_count": null,
   "id": "cf419b4f-4586-4012-bf6b-787f7f7bfcb9",
   "metadata": {
    "tags": []
   },
   "outputs": [],
   "source": [
    "#metadata\n",
    "df.info()"
   ]
  },
  {
   "cell_type": "code",
   "execution_count": null,
   "id": "985dfe1b-5d87-4f72-8797-59806afb020b",
   "metadata": {
    "tags": []
   },
   "outputs": [],
   "source": [
    "#statistics of data frame and column\n",
    "df.describe()\n",
    "df['Pulse'].describe()"
   ]
  },
  {
   "cell_type": "code",
   "execution_count": null,
   "id": "2b7116c5-b456-4b2d-a1ec-dc439525d7bc",
   "metadata": {
    "tags": []
   },
   "outputs": [],
   "source": [
    "df['Calories'].mean()\n",
    "df['Calories'].median()\n",
    "df['Calories'].mode()"
   ]
  },
  {
   "cell_type": "code",
   "execution_count": null,
   "id": "4072f5f0-d54f-4394-a15d-b487512ca7ab",
   "metadata": {
    "tags": []
   },
   "outputs": [],
   "source": [
    "df['Calories'].plot(kind='box', vert=False, figsize=(14,6))"
   ]
  },
  {
   "cell_type": "code",
   "execution_count": null,
   "id": "088d8d67-599c-4e5f-80fb-e77ab7b66f2f",
   "metadata": {
    "tags": []
   },
   "outputs": [],
   "source": [
    "df['Pulse'].plot(kind='density', figsize=(14,6))"
   ]
  },
  {
   "cell_type": "code",
   "execution_count": null,
   "id": "f3e539ce-7f67-4d4a-81a0-2d53d564626d",
   "metadata": {
    "tags": []
   },
   "outputs": [],
   "source": [
    "#display a density plot with the median and mean\n",
    "ax = df['Calories'].plot(kind='density', figsize=(14,6))\n",
    "ax.axvline(df['Calories'].mean(), color='red')\n",
    "ax.axvline(df['Calories'].median(), color='green')"
   ]
  },
  {
   "cell_type": "code",
   "execution_count": null,
   "id": "81792862-5d6d-4362-9621-ae0c51e43990",
   "metadata": {
    "tags": []
   },
   "outputs": [],
   "source": [
    "corr = df.corr()"
   ]
  },
  {
   "cell_type": "code",
   "execution_count": null,
   "id": "42c253c7-b5ec-4ac1-8300-f200e9203baa",
   "metadata": {
    "tags": []
   },
   "outputs": [],
   "source": [
    "#Create heat map matrix of correlation, Blue means high red means low\n",
    "fig = plt.figure(figsize=(8,8))\n",
    "plt.matshow(corr, cmap='RdBu', fignum=fig.number)\n",
    "plt.xticks(range(len(corr.columns)), corr.columns, rotation='vertical');\n",
    "plt.yticks(range(len(corr.columns)), corr.columns);"
   ]
  },
  {
   "cell_type": "code",
   "execution_count": null,
   "id": "bfe4117b-e35e-42d5-8502-e2670b7ad55f",
   "metadata": {
    "tags": []
   },
   "outputs": [],
   "source": [
    "#create new column that analyses relationship of 2 fields\n",
    "df['Calories_Per_Minute'] = df['Calories'] / df['Duration']\n",
    "df.head()"
   ]
  },
  {
   "cell_type": "code",
   "execution_count": null,
   "id": "8f3224fb-45af-4b27-b06a-c9c27119667c",
   "metadata": {
    "tags": []
   },
   "outputs": [],
   "source": [
    "#Plot new column in a density plot\n",
    "df['Calories_Per_Minute'].plot(kind='density')"
   ]
  },
  {
   "cell_type": "code",
   "execution_count": null,
   "id": "ae706ff7-b366-4908-a188-867d3a5f2c01",
   "metadata": {
    "tags": []
   },
   "outputs": [],
   "source": [
    "#Plot new column in a histogram\n",
    "df['Calories_Per_Minute'].plot(kind='hist')"
   ]
  },
  {
   "cell_type": "code",
   "execution_count": null,
   "id": "e416ed09-a6e1-41e7-a54c-7ab44a5a079d",
   "metadata": {
    "tags": []
   },
   "outputs": [],
   "source": [
    "df = pd.read_csv('imdb_top_1000.csv')\n",
    "df = df.drop(columns=['Poster_Link'])\n",
    "df.to_csv('imdb_top_1000.csv', index=False)"
   ]
  },
  {
   "cell_type": "code",
   "execution_count": null,
   "id": "7e4376e5-2cba-4bf0-a6d3-bafadee787d5",
   "metadata": {
    "tags": []
   },
   "outputs": [],
   "source": [
    "#unique value counts for column\n",
    "df['Certificate'].value_counts()\n",
    "\n",
    "#Plot the unique values in a pie chart\n",
    "df['Certificate'].value_counts().plot(kind='pie', figsize=(6,6))"
   ]
  },
  {
   "cell_type": "code",
   "execution_count": null,
   "id": "08d18d12-2b75-4822-8ec8-f027062b4f3c",
   "metadata": {
    "tags": []
   },
   "outputs": [],
   "source": [
    "df.corr()"
   ]
  },
  {
   "cell_type": "code",
   "execution_count": null,
   "id": "2f0cbd4a-138d-49f3-9fa0-4b60f9f5b149",
   "metadata": {
    "tags": []
   },
   "outputs": [],
   "source": [
    "#Scatter plot of 2 columns with weak correlation\n",
    "df.plot(kind='scatter', x='Meta_score', y='IMDB_Rating')"
   ]
  },
  {
   "cell_type": "code",
   "execution_count": null,
   "id": "d411c7f2-b712-46d7-9682-be4dba6f7090",
   "metadata": {
    "tags": []
   },
   "outputs": [],
   "source": [
    "df.loc[df['Calories'] >= 500]"
   ]
  },
  {
   "cell_type": "code",
   "execution_count": null,
   "id": "acc4722e-3503-47e8-a2c1-3b0e8aeb1102",
   "metadata": {
    "tags": []
   },
   "outputs": [],
   "source": [
    "df.loc[(df['Pulse'] >= 90) & (df['Duration'] < 25)]"
   ]
  },
  {
   "cell_type": "code",
   "execution_count": null,
   "id": "9b9e6996-106e-451a-9dd9-b9cbfdc16abb",
   "metadata": {},
   "outputs": [],
   "source": [
    "df = pd.read_csv('video_game_sales.csv')\n",
    "df.head()"
   ]
  },
  {
   "cell_type": "code",
   "execution_count": null,
   "id": "41709805-3c4a-49d1-838b-5aaf2ac61add",
   "metadata": {
    "tags": []
   },
   "outputs": [],
   "source": [
    "df"
   ]
  },
  {
   "cell_type": "code",
   "execution_count": null,
   "id": "a3e66a2f-add9-459b-84cf-86e19e2cddfe",
   "metadata": {
    "tags": []
   },
   "outputs": [],
   "source": [
    "df['Genre'].value_counts()"
   ]
  },
  {
   "cell_type": "code",
   "execution_count": null,
   "id": "c274a6aa-5df0-40e5-83f5-4946d0b01160",
   "metadata": {
    "tags": []
   },
   "outputs": [],
   "source": [
    "df.head()"
   ]
  },
  {
   "cell_type": "code",
   "execution_count": null,
   "id": "6ba66b3a-884a-49c0-9b8f-4e798b6c16d8",
   "metadata": {
    "tags": []
   },
   "outputs": [],
   "source": [
    "print(\"Average Nintendo Global Sales: \", df.loc[(df['Publisher'] == 'Nintendo'), 'Global_Sales'].mean())"
   ]
  },
  {
   "cell_type": "code",
   "execution_count": null,
   "id": "98c6508e-5e6b-4037-9c0e-f9d59d193d82",
   "metadata": {
    "tags": []
   },
   "outputs": [],
   "source": [
    "#number of records that match criteria\n",
    "df.loc[(df['Platform'] == 'Wii') & (df['Genre'] == 'Sports')].shape[0]"
   ]
  },
  {
   "cell_type": "code",
   "execution_count": null,
   "id": "4e664716-3c19-4ef3-8d58-84cd3efa4f47",
   "metadata": {
    "tags": []
   },
   "outputs": [],
   "source": [
    "#Top ten game publishers\n",
    "df['Publisher'].value_counts().head(10)"
   ]
  },
  {
   "cell_type": "code",
   "execution_count": null,
   "id": "bce68dc1-2547-4ac6-9e1c-a54781a98066",
   "metadata": {
    "tags": []
   },
   "outputs": [],
   "source": [
    "from bokeh.plotting import figure, output_file, show\n",
    "from bokeh.io import output_notebook\n",
    "output_notebook()"
   ]
  },
  {
   "cell_type": "code",
   "execution_count": null,
   "id": "1142506e-c201-4089-81fc-69c10c98f300",
   "metadata": {
    "tags": []
   },
   "outputs": [],
   "source": [
    "df = pd.read_csv('video_game_sales.csv')"
   ]
  },
  {
   "cell_type": "code",
   "execution_count": null,
   "id": "a648f05c-702f-4600-86fb-85e8a9c13d8c",
   "metadata": {
    "tags": []
   },
   "outputs": [],
   "source": [
    "#Use bokeh to generate a dynamic, interactive chart\n",
    "p1=figure(x_axis_type='datetime', title='Games Sales Over Years', width=800)\n",
    "p1.grid.grid_line_alpha=0.3\n",
    "p1.xaxis.axis_label='Year'\n",
    "p1.yaxis.axis_label='National Sales'\n",
    "\n",
    "p1.scatter(df['Year'], df['NA_Sales'], color='#f2a900')\n",
    "show(p1)"
   ]
  },
  {
   "cell_type": "code",
   "execution_count": null,
   "id": "c0c747e0-78ae-4a51-8492-3c3e6255a188",
   "metadata": {},
   "outputs": [],
   "source": [
    "#query the data\n",
    "df.query('Platform == \"XBox\"')\n",
    "df.query('Global_Sales > 50')\n",
    "df.query('NA_Sales > EU_Sales')"
   ]
  },
  {
   "cell_type": "code",
   "execution_count": null,
   "id": "84cc3316-fa53-4a83-9ace-849b2da393f0",
   "metadata": {
    "tags": []
   },
   "outputs": [],
   "source": [
    "sns.pairplot(df, vars=['Platform', 'Year', 'NA_Sales', 'EU_Sales', 'Global_Sales'])\n",
    "plt.show()"
   ]
  },
  {
   "cell_type": "code",
   "execution_count": null,
   "id": "db16bb60-fa4d-4a06-851d-d6f063400212",
   "metadata": {
    "tags": []
   },
   "outputs": [],
   "source": [
    "df_corr = df[['NA_Sales', 'EU_Sales', 'Global_Sales', 'JP_Sales', 'Other_Sales']]\n",
    "sns.heatmap(df_corr)"
   ]
  },
  {
   "cell_type": "code",
   "execution_count": 55,
   "id": "3d458a67-a963-4ff3-bd5e-7348cd8e9c71",
   "metadata": {
    "tags": []
   },
   "outputs": [
    {
     "data": {
      "text/html": [
       "<div>\n",
       "<style scoped>\n",
       "    .dataframe tbody tr th:only-of-type {\n",
       "        vertical-align: middle;\n",
       "    }\n",
       "\n",
       "    .dataframe tbody tr th {\n",
       "        vertical-align: top;\n",
       "    }\n",
       "\n",
       "    .dataframe thead th {\n",
       "        text-align: right;\n",
       "    }\n",
       "</style>\n",
       "<table border=\"1\" class=\"dataframe\">\n",
       "  <thead>\n",
       "    <tr style=\"text-align: right;\">\n",
       "      <th></th>\n",
       "      <th>Rank</th>\n",
       "      <th>Name</th>\n",
       "      <th>Platform</th>\n",
       "      <th>Year</th>\n",
       "      <th>Genre</th>\n",
       "      <th>Publisher</th>\n",
       "      <th>NA_Sales</th>\n",
       "      <th>EU_Sales</th>\n",
       "      <th>JP_Sales</th>\n",
       "      <th>Other_Sales</th>\n",
       "      <th>Global_Sales</th>\n",
       "    </tr>\n",
       "  </thead>\n",
       "  <tbody>\n",
       "    <tr>\n",
       "      <th>0</th>\n",
       "      <td>1</td>\n",
       "      <td>Wii Sports</td>\n",
       "      <td>Wii</td>\n",
       "      <td>2006.0</td>\n",
       "      <td>Sports</td>\n",
       "      <td>Nintendo</td>\n",
       "      <td>41.49</td>\n",
       "      <td>29.02</td>\n",
       "      <td>3.77</td>\n",
       "      <td>8.46</td>\n",
       "      <td>82.74</td>\n",
       "    </tr>\n",
       "    <tr>\n",
       "      <th>1</th>\n",
       "      <td>2</td>\n",
       "      <td>Super Mario Bros.</td>\n",
       "      <td>NES</td>\n",
       "      <td>1985.0</td>\n",
       "      <td>Platform</td>\n",
       "      <td>Nintendo</td>\n",
       "      <td>29.08</td>\n",
       "      <td>3.58</td>\n",
       "      <td>6.81</td>\n",
       "      <td>0.77</td>\n",
       "      <td>40.24</td>\n",
       "    </tr>\n",
       "    <tr>\n",
       "      <th>2</th>\n",
       "      <td>3</td>\n",
       "      <td>Mario Kart Wii</td>\n",
       "      <td>Wii</td>\n",
       "      <td>2008.0</td>\n",
       "      <td>Racing</td>\n",
       "      <td>Nintendo</td>\n",
       "      <td>15.85</td>\n",
       "      <td>12.88</td>\n",
       "      <td>3.79</td>\n",
       "      <td>3.31</td>\n",
       "      <td>35.82</td>\n",
       "    </tr>\n",
       "    <tr>\n",
       "      <th>3</th>\n",
       "      <td>4</td>\n",
       "      <td>Wii Sports Resort</td>\n",
       "      <td>Wii</td>\n",
       "      <td>2009.0</td>\n",
       "      <td>Sports</td>\n",
       "      <td>Nintendo</td>\n",
       "      <td>15.75</td>\n",
       "      <td>11.01</td>\n",
       "      <td>3.28</td>\n",
       "      <td>2.96</td>\n",
       "      <td>33.00</td>\n",
       "    </tr>\n",
       "    <tr>\n",
       "      <th>4</th>\n",
       "      <td>5</td>\n",
       "      <td>Pokemon Red/Pokemon Blue</td>\n",
       "      <td>GB</td>\n",
       "      <td>1996.0</td>\n",
       "      <td>Role-Playing</td>\n",
       "      <td>Nintendo</td>\n",
       "      <td>11.27</td>\n",
       "      <td>8.89</td>\n",
       "      <td>10.22</td>\n",
       "      <td>1.00</td>\n",
       "      <td>31.37</td>\n",
       "    </tr>\n",
       "    <tr>\n",
       "      <th>5</th>\n",
       "      <td>6</td>\n",
       "      <td>Tetris</td>\n",
       "      <td>GB</td>\n",
       "      <td>1989.0</td>\n",
       "      <td>Puzzle</td>\n",
       "      <td>Nintendo</td>\n",
       "      <td>23.20</td>\n",
       "      <td>2.26</td>\n",
       "      <td>4.22</td>\n",
       "      <td>0.58</td>\n",
       "      <td>30.26</td>\n",
       "    </tr>\n",
       "    <tr>\n",
       "      <th>6</th>\n",
       "      <td>7</td>\n",
       "      <td>New Super Mario Bros.</td>\n",
       "      <td>DS</td>\n",
       "      <td>2006.0</td>\n",
       "      <td>Platform</td>\n",
       "      <td>Nintendo</td>\n",
       "      <td>11.38</td>\n",
       "      <td>9.23</td>\n",
       "      <td>6.50</td>\n",
       "      <td>2.90</td>\n",
       "      <td>30.01</td>\n",
       "    </tr>\n",
       "    <tr>\n",
       "      <th>7</th>\n",
       "      <td>8</td>\n",
       "      <td>Wii Play</td>\n",
       "      <td>Wii</td>\n",
       "      <td>2006.0</td>\n",
       "      <td>Misc</td>\n",
       "      <td>Nintendo</td>\n",
       "      <td>14.03</td>\n",
       "      <td>9.20</td>\n",
       "      <td>2.93</td>\n",
       "      <td>2.85</td>\n",
       "      <td>29.02</td>\n",
       "    </tr>\n",
       "    <tr>\n",
       "      <th>8</th>\n",
       "      <td>9</td>\n",
       "      <td>New Super Mario Bros. Wii</td>\n",
       "      <td>Wii</td>\n",
       "      <td>2009.0</td>\n",
       "      <td>Platform</td>\n",
       "      <td>Nintendo</td>\n",
       "      <td>14.59</td>\n",
       "      <td>7.06</td>\n",
       "      <td>4.70</td>\n",
       "      <td>2.26</td>\n",
       "      <td>28.62</td>\n",
       "    </tr>\n",
       "    <tr>\n",
       "      <th>9</th>\n",
       "      <td>10</td>\n",
       "      <td>Duck Hunt</td>\n",
       "      <td>NES</td>\n",
       "      <td>1984.0</td>\n",
       "      <td>Shooter</td>\n",
       "      <td>Nintendo</td>\n",
       "      <td>26.93</td>\n",
       "      <td>0.63</td>\n",
       "      <td>0.28</td>\n",
       "      <td>0.47</td>\n",
       "      <td>28.31</td>\n",
       "    </tr>\n",
       "  </tbody>\n",
       "</table>\n",
       "</div>"
      ],
      "text/plain": [
       "   Rank                       Name Platform    Year         Genre Publisher  \\\n",
       "0     1                 Wii Sports      Wii  2006.0        Sports  Nintendo   \n",
       "1     2          Super Mario Bros.      NES  1985.0      Platform  Nintendo   \n",
       "2     3             Mario Kart Wii      Wii  2008.0        Racing  Nintendo   \n",
       "3     4          Wii Sports Resort      Wii  2009.0        Sports  Nintendo   \n",
       "4     5   Pokemon Red/Pokemon Blue       GB  1996.0  Role-Playing  Nintendo   \n",
       "5     6                     Tetris       GB  1989.0        Puzzle  Nintendo   \n",
       "6     7      New Super Mario Bros.       DS  2006.0      Platform  Nintendo   \n",
       "7     8                   Wii Play      Wii  2006.0          Misc  Nintendo   \n",
       "8     9  New Super Mario Bros. Wii      Wii  2009.0      Platform  Nintendo   \n",
       "9    10                  Duck Hunt      NES  1984.0       Shooter  Nintendo   \n",
       "\n",
       "   NA_Sales  EU_Sales  JP_Sales  Other_Sales  Global_Sales  \n",
       "0     41.49     29.02      3.77         8.46         82.74  \n",
       "1     29.08      3.58      6.81         0.77         40.24  \n",
       "2     15.85     12.88      3.79         3.31         35.82  \n",
       "3     15.75     11.01      3.28         2.96         33.00  \n",
       "4     11.27      8.89     10.22         1.00         31.37  \n",
       "5     23.20      2.26      4.22         0.58         30.26  \n",
       "6     11.38      9.23      6.50         2.90         30.01  \n",
       "7     14.03      9.20      2.93         2.85         29.02  \n",
       "8     14.59      7.06      4.70         2.26         28.62  \n",
       "9     26.93      0.63      0.28         0.47         28.31  "
      ]
     },
     "execution_count": 55,
     "metadata": {},
     "output_type": "execute_result"
    }
   ],
   "source": [
    "df.head(10)"
   ]
  },
  {
   "cell_type": "code",
   "execution_count": 59,
   "id": "531c004a-a92a-4fb3-a5a7-3619da579434",
   "metadata": {
    "tags": []
   },
   "outputs": [
    {
     "data": {
      "text/plain": [
       "<pandas.core.groupby.generic.DataFrameGroupBy object at 0x7f59b2e396c0>"
      ]
     },
     "execution_count": 60,
     "metadata": {},
     "output_type": "execute_result"
    }
   ],
   "source": [
    "ax = df.groupby('Year')\n"
   ]
  },
  {
   "cell_type": "code",
   "execution_count": null,
   "id": "80c189a1-71c4-4f6f-970d-c144ced54187",
   "metadata": {},
   "outputs": [],
   "source": [
    "plt.plot()\n",
    "plt.xlabel(\"Years\")  # add X-axis label\n",
    "plt.ylabel(\"Coffee Consumption\")  # add Y-axis label\n",
    "plt.title(\"Any suitable title\")  # add title\n",
    "plt.show()"
   ]
  }
 ],
 "metadata": {
  "kernelspec": {
   "display_name": "Python 3 (ipykernel)",
   "language": "python",
   "name": "python3"
  },
  "language_info": {
   "codemirror_mode": {
    "name": "ipython",
    "version": 3
   },
   "file_extension": ".py",
   "mimetype": "text/x-python",
   "name": "python",
   "nbconvert_exporter": "python",
   "pygments_lexer": "ipython3",
   "version": "3.10.6"
  }
 },
 "nbformat": 4,
 "nbformat_minor": 5
}
